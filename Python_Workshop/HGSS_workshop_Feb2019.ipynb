{
 "cells": [
  {
   "cell_type": "markdown",
   "metadata": {},
   "source": [
    "## Python Workshop \n",
    "*__*"
   ]
  },
  {
   "cell_type": "markdown",
   "metadata": {},
   "source": [
    "Date: Feb 28, 2019\n",
    "\n",
    "Author: Senthilkumar, Postdoc, Human Genetics, MUGIC\n",
    "\n",
    "Acknowledgement :???, HGSS"
   ]
  },
  {
   "cell_type": "code",
   "execution_count": null,
   "metadata": {},
   "outputs": [],
   "source": [
    "import sys\n",
    "print(sys.version)"
   ]
  },
  {
   "cell_type": "markdown",
   "metadata": {},
   "source": [
    "#### Note\n",
    "1. Pre install anaconda 3\n",
    "2. Test Editor, Os specific: Mac/Windows: Sublime.\n",
    "3. Give primer for basic UniX/Linux Command. echo $SHELL\n"
   ]
  },
  {
   "cell_type": "markdown",
   "metadata": {},
   "source": [
    "#### 1. Unix/Linux command\n",
    "\n",
    "*ls*\n",
    " \n",
    "*cd ..*\n",
    "\n",
    "*mkdir *\n",
    "\n",
    "*Create a workspace/Directory/Project for the Workshop*\n",
    "\n",
    "###### **End Goal:**\n",
    "* You should be able to open a notebook /TextEditor. Type commands\n",
    "     - Yeah! My first text file. what is a file extension ? Prefix/suffix significance\n",
    "* File name etiquettes.\n",
    "    - Use meaning names for prefix. Added py to the suffix if its a python file.\n",
    " \n",
    "        \n",
    "    "
   ]
  },
  {
   "cell_type": "markdown",
   "metadata": {},
   "source": [
    "#### 2. First Python code in TextEditor\n",
    "*Note: make sure syntax highlighting is ON. difference for each version of TextEditor.*\n",
    "\n",
    "* Open the editor and type *<font color=blue>print('Hello World')</font>*\n",
    "\n",
    "* Save the file as <filename>.py\n",
    "\n",
    "* Open a Terminal/Console/cmd/ and run the following command\n",
    "\n",
    "\n",
    "###### **End Goal:**\n",
    "* You should to run a simple one line python code.\n",
    "    - python my_first_python_code.py\n",
    "    - See what happend if you add **#** in front of the print line. What is commenting?\n"
   ]
  },
  {
   "cell_type": "code",
   "execution_count": null,
   "metadata": {},
   "outputs": [],
   "source": [
    "%run my_python_code.py\n",
    "\n",
    "# You just ran your first python code.\n"
   ]
  },
  {
   "cell_type": "markdown",
   "metadata": {},
   "source": [
    "##### 3. Variables and Casting"
   ]
  },
  {
   "cell_type": "code",
   "execution_count": null,
   "metadata": {},
   "outputs": [],
   "source": [
    "\n",
    "#Variables\n",
    "var1 = \"Some characters/strings\"\n",
    "var2 = 5 #integer\n",
    "var3 = 4.5 # float\n",
    "var10 = True #logical \n",
    "\n",
    "var4= 9.999999\n",
    "#Casting\n",
    "print(var3)\n",
    "\n",
    "print(int(var3))\n",
    "\n",
    "print (float(var2))\n",
    "\n",
    "var5 = str(var2)\n",
    "\n",
    "print(var2 + var3)\n",
    "\n",
    "#print(var5 + var3) #error why?\n",
    "\n",
    "\n",
    "var6= \" Appended\"\n",
    "print(var1 + var6) #concatenating strings\n",
    "\n"
   ]
  },
  {
   "cell_type": "markdown",
   "metadata": {},
   "source": [
    "##### 4. Lists"
   ]
  },
  {
   "cell_type": "code",
   "execution_count": null,
   "metadata": {},
   "outputs": [],
   "source": [
    "list1 = [var1, var2 , var3, var4 ]\n",
    "print(list1)\n",
    "\n",
    "print(list1[1]) # Zero based index. Indexing starts at \"0\"\n",
    "\n",
    "print(list1[0])\n",
    "\n",
    "#print (list[4]) # error!\n",
    "\n",
    "print(list1[-1]) #\n",
    "\n"
   ]
  },
  {
   "cell_type": "markdown",
   "metadata": {},
   "source": [
    "Questions:\n",
    "    1. Whats the last but one variable?\n",
    "    2. Is the reverse zero indexed?"
   ]
  },
  {
   "cell_type": "markdown",
   "metadata": {},
   "source": [
    "#### 5. Slicing and Subsetting"
   ]
  },
  {
   "cell_type": "code",
   "execution_count": null,
   "metadata": {},
   "outputs": [],
   "source": [
    "list1 = [var1, var2 , var3, var4, var5, var6]\n",
    "print(list1)\n",
    "\n",
    "list2 = list1[0:3] \n",
    "# list2 = list1[:3]\n",
    "#list2 = list1[2:]\n",
    "\n",
    "list2 = list1[2:-1] # What is upperbound lowerbound?\n",
    "list2 = list1[1:3] # includes bottom but not top\n",
    "print (list2)"
   ]
  },
  {
   "cell_type": "markdown",
   "metadata": {},
   "source": [
    "#### 6. Dictionaries"
   ]
  },
  {
   "cell_type": "code",
   "execution_count": null,
   "metadata": {},
   "outputs": [],
   "source": [
    "students1 = {29940:'David', 3459:'Marco'}\n",
    "#print('David')# error\n",
    "print(students1[29940])\n",
    "\n",
    "#Example 2 \n",
    "released = {\n",
    "\t\t\"iphone\" : 2007,\n",
    "\t\t\"iphone 3G\" : 2008,\n",
    "\t\t\"iphone 3GS\" : 2009,\n",
    "\t\t\"iphone 4\" : 2010,\n",
    "\t\t\"iphone 4S\" : 2011,\n",
    "\t\t\"iphone 5\" : 2012\n",
    "\t}\n",
    "print(released['iphone 5'])\n",
    "\n",
    "#example3 : ID,[Name, Age]\n",
    "students3 = {'2990':['David', 35],'3459':['Marco',25]}\n",
    "#print('David')# error\n",
    "print(students3['2990'])\n",
    "\n",
    "#example4 \n",
    "#example3 : ID,[Name, Age, address]\n",
    "students4 = {2990:['David', 35, \"23, Rue Berri, QC \"],3459:['Marco',25, '34, St Benovel st., MTL']}\n",
    "#print(David)# error\n",
    "print(students4[3459])\n",
    "\n"
   ]
  },
  {
   "cell_type": "markdown",
   "metadata": {},
   "source": [
    "Note:\n",
    "    1. Can we add any type of data to the key:value pair.\n",
    "   "
   ]
  },
  {
   "cell_type": "markdown",
   "metadata": {},
   "source": [
    "#####  7. Booleans"
   ]
  },
  {
   "cell_type": "code",
   "execution_count": null,
   "metadata": {},
   "outputs": [],
   "source": [
    "# Booleans \n",
    "\n",
    "x = True\n",
    "y = False\n",
    "x = 5 == 1\n",
    "print(x)\n",
    "\n",
    "\n",
    "#Boolean values respond to logical operators and / or\n",
    "\n",
    "# True and False = False\n",
    "\n",
    "# True and True = True\n",
    "\n",
    "# False and True = False\n",
    "\n",
    "# False or True = True\n",
    "\n",
    "# False or False = False\n",
    "comparison = \"Apples\" == \"Intergenic\" # False\n",
    "\n",
    "print(\"----------\")\n",
    "print(comparison)"
   ]
  },
  {
   "cell_type": "markdown",
   "metadata": {},
   "source": [
    "##### 8. Conditionals"
   ]
  },
  {
   "cell_type": "code",
   "execution_count": null,
   "metadata": {},
   "outputs": [],
   "source": [
    "if True:\n",
    "    print(\"Yes, TRUE\")\n",
    "if False:\n",
    "    print(\"Yes, False\")\n",
    "    \n",
    "x = 4\n",
    "if x > 3:\n",
    "    print(\"Yes, Its greater than 3 \")\n",
    "\n",
    "if x < 3:\n",
    "    print(\"Nope\")\n",
    "\n",
    "print (x)   \n",
    "\n",
    "print(\"-------------\")\n",
    "#else \n",
    "\n",
    "if True:\n",
    "    print(\"Its  True\")\n",
    "else:\n",
    "    print(\"Not True\")\n",
    "#-------------\n",
    "if x > 2 and x <4:\n",
    "    print(\"Its  True\")\n",
    "else:\n",
    "    print(\"Not True\")\n",
    "#-------------   \n",
    "    \n",
    "if x > 2 or x <5:\n",
    "    print(\"Its  4\")\n",
    "else:\n",
    "    print(\"Not True\")\n",
    "    "
   ]
  },
  {
   "cell_type": "markdown",
   "metadata": {},
   "source": [
    "#### 9. Loops"
   ]
  },
  {
   "cell_type": "code",
   "execution_count": null,
   "metadata": {},
   "outputs": [],
   "source": [
    "#example1 \n",
    "print(\"#Example1 : \") \n",
    "for i in range(0,10):\n",
    "        print(i)\n",
    "        \n",
    "        \n",
    "   \n",
    "#example2 \n",
    "print(\"#Example2 : \") \n",
    "for i in range(0,10):    \n",
    "        if i % 3 == 0:\n",
    "            print(\"Fizz\",i)\n",
    "        else:\n",
    "            print(\"Buzz\",i)\n",
    "            \n",
    "#example3\n",
    "print(\"#Example3 : \")  \n",
    "for i in range(0,10):    \n",
    "        print(\"\")"
   ]
  },
  {
   "cell_type": "markdown",
   "metadata": {},
   "source": [
    "#### ASSIGNEMENT 2\n",
    "*__*"
   ]
  },
  {
   "cell_type": "code",
   "execution_count": null,
   "metadata": {},
   "outputs": [],
   "source": [
    "# Assignment 1\n",
    "\n",
    "#Draw a Rectangle os size h = 25, w =20\n",
    "\n",
    "w =30*\"*\"\n",
    "h = \"*\" +28*\" \" + \"*\"\n",
    "\n",
    "for i in range (0,25):\n",
    "    if i == 0 or i == 24 :\n",
    "        print(w)\n",
    "    else:\n",
    "        print(h)\n"
   ]
  },
  {
   "cell_type": "markdown",
   "metadata": {},
   "source": [
    "#### 10.  FILE HANDLING\n",
    "\n",
    "Download the heart dataset from [Kaggle](https://www.kaggle.com/ronitf/heart-disease-uci). You will have to register in their site to download."
   ]
  },
  {
   "cell_type": "code",
   "execution_count": null,
   "metadata": {},
   "outputs": [],
   "source": [
    "#Open and read file line by line.\n",
    "import codecs\n",
    "\n",
    "filepath=\"/Users/User/Documents/HGSS_Workshop/heart.csv\"\n",
    "ages =[]\n",
    "\n",
    "#dos2unix in commandline if the file  has gibbersih header.\n",
    "\n",
    "#with codecs.open(filepath, \"r\", encoding=\"utf-8-sig\")as infile:\n",
    "with open(filepath, \"r\")as infile:\n",
    "    first_line = infile.readline() #skip the header(first) line\n",
    "    for line in infile:\n",
    "        line = line.rstrip()\n",
    "        data = line.split(',') # somestrinh.split('delimiter')\n",
    "        age = data[0]\n",
    "        ages.append(int(age))\n",
    "        \n",
    "print(ages)\n",
    "        \n",
    "        "
   ]
  },
  {
   "cell_type": "markdown",
   "metadata": {},
   "source": [
    "#### 11. Loading modules"
   ]
  },
  {
   "cell_type": "code",
   "execution_count": null,
   "metadata": {},
   "outputs": [],
   "source": [
    "        \n",
    "# load libraries and set plot parameters\n",
    "import numpy as np\n",
    "#import PrettyTable as pt\n",
    "\n",
    "import matplotlib.pyplot as plt\n",
    "%matplotlib inline"
   ]
  },
  {
   "cell_type": "markdown",
   "metadata": {},
   "source": [
    "##### 11. PLOTTING"
   ]
  },
  {
   "cell_type": "code",
   "execution_count": null,
   "metadata": {},
   "outputs": [],
   "source": [
    "import matplotlib.pyplot as plt\n",
    "#plt.hist(ages)\n",
    "plt.hist(ages,bins=25, density=True, color=\"green\", label=\"age\")\n",
    "\n",
    "\n",
    "\n",
    "\n"
   ]
  },
  {
   "cell_type": "code",
   "execution_count": 290,
   "metadata": {},
   "outputs": [
    {
     "data": {
      "image/png": "[encoded data removed]",
      "text/plain": [
       "<matplotlib.figure.Figure at 0x1159ab850>"
      ]
     },
     "metadata": {},
     "output_type": "display_data"
    }
   ],
   "source": [
    "#for cholesterol \n",
    "chols = []\n",
    "with open(filepath, \"r\")as infile:\n",
    "    first_line = infile.readline() #skip the header(first) line\n",
    "    for line in infile:\n",
    "        line = line.rstrip()\n",
    "        data = line.split(',') # somestrinh.split('delimiter')\n",
    "        chol = data[4]\n",
    "        chols.append(int(chol))\n",
    "#print(chols)\n",
    "    \n",
    "#plt.hist(ages)\n",
    "\n",
    "#calculate Pearson Corr value\n",
    "import numpy as np\n",
    "corr_val = np.corrcoef(ages,chols)[0][1]\n",
    "plt.plot(ages,chols,color='red', linestyle='', marker='o',\n",
    "                    markersize=5, mfc=\"green\", markerfacecoloralt='black', label = 'r = %.2f' % corr_val)\n",
    "plt.legend()\n",
    "plt.xlabel('Age')\n",
    "plt.ylabel('Cholesterol')\n",
    "plt.title('Correlation between Age and Cholesterol Values')\n",
    "plt.grid(True)\n",
    "plt.savefig(\"figure_Age_vs_Cholesterol.png\")"
   ]
  },
  {
   "cell_type": "markdown",
   "metadata": {},
   "source": [
    "###### **End Goal:**\n",
    "* You should be able to search the error message in google to get answers.\n"
   ]
  },
  {
   "cell_type": "code",
   "execution_count": null,
   "metadata": {},
   "outputs": [],
   "source": [
    "# PLotting example 2: \n",
    "x_values = [i for i in range(1,10)] # make a list of the array\n",
    "print(x_values)\n",
    "\n",
    "y_values = []\n",
    "for x in x_values:\n",
    "    y = x**2\n",
    "    y_values.append(y)\n",
    "print(y_values)\n",
    "plt.plot(x_values,y_values, color='red', linestyle=':', marker='o',\n",
    "                    markersize=5, mfc=\"green\", markerfacecoloralt='black')\n"
   ]
  },
  {
   "cell_type": "markdown",
   "metadata": {},
   "source": [
    "#### Additional:  Dataframe  way of handling Files"
   ]
  },
  {
   "cell_type": "code",
   "execution_count": 309,
   "metadata": {
    "scrolled": true
   },
   "outputs": [
    {
     "data": {
      "text/plain": [
       "<matplotlib.collections.PathCollection at 0x11614c410>"
      ]
     },
     "execution_count": 309,
     "metadata": {},
     "output_type": "execute_result"
    },
    {
     "data": {
      "image/png": "[encoded data removed]",
      "text/plain": [
       "<matplotlib.figure.Figure at 0x115e03850>"
      ]
     },
     "metadata": {},
     "output_type": "display_data"
    }
   ],
   "source": [
    "#example 2 using pandas\n",
    "import pandas as ps\n",
    "df = ps.read_csv(\"heart.csv\")\n",
    "df = ps.DataFrame(df)\n",
    "\n",
    "plt.scatter(df['age'],df['chol'])\n",
    "\n",
    "\n",
    "#Explore Data\n",
    "#print(df.head(3))\n",
    "\n",
    "\n",
    "#print(df.feature)\n",
    "\n",
    "#print(df.info)"
   ]
  },
  {
   "cell_type": "markdown",
   "metadata": {},
   "source": [
    "#### 12. Machine Learning Sample\n",
    "\n"
   ]
  },
  {
   "cell_type": "code",
   "execution_count": 340,
   "metadata": {},
   "outputs": [
    {
     "name": "stdout",
     "output_type": "stream",
     "text": [
      "[-0.87268582  1.27009571  0.02833352  0.12769463 18.74015779]\n",
      "0.31020587537465383\n",
      "True Values\n",
      "[187 163 179 115 172 144  95 144 156 174 152 122 186 150 148 182 141 125\n",
      " 188 145 151 141 154 170 147 163 137 132 131 142 133 147 162 156 163 169\n",
      " 159  90 173 150 128 132 145 136 136 161 140 171 173 146 131 114 169 164\n",
      " 171 195 160 180 168 123 150 130 108 155 152 131 190 152 170 150 185 105\n",
      " 143 162 154 113 143 116 132 138 180 111 149 146 146 144 105 140 179 140\n",
      " 131 163 158 158 186 157 151 171 158 140 174 139 148]\n",
      "Prediction in Test\n",
      "[172.98352088 127.53764951 163.92603741 156.53172313 166.91933995\n",
      " 136.9955259  140.29320028 145.08391094 159.92452774 135.12288174\n",
      " 137.3680459  149.49951715 162.35453443 166.63674534 161.49196617\n",
      " 165.58081391 136.3351477  125.62029226 165.99638101 132.55027797\n",
      " 145.16293007 127.36281684 151.18141783 136.66687694 148.40474637\n",
      " 159.98090051 154.39461915 141.70876026 131.7140506  141.70317454\n",
      " 146.40753452 157.09758388 147.34628926 139.59434462 169.29858055\n",
      " 157.85929555 157.92795109 137.28921189 158.90721371 144.81382022\n",
      " 145.25400535 125.56029731 160.4804454  128.01559176 150.57089211\n",
      " 134.26573128 145.20302471 170.21629795 165.96610965 127.70769728\n",
      " 151.88534641 146.71973088 154.84220887 139.34431441 136.69516382\n",
      " 148.25977724 135.60335435 163.24230928 141.49492262 136.54149561\n",
      " 151.72743918 135.91657335 135.60713674 153.87711791 142.50888847\n",
      " 148.4350772  156.54755277 149.24198907 167.38998928 135.93925355\n",
      " 164.36995014 136.04770944 139.36440946 134.25287436 155.51724189\n",
      " 136.37407964 136.64410345 137.45394796 133.82021349 133.35750835\n",
      " 167.72666361 159.87287882 163.84562076 135.55923784 150.62803855\n",
      " 131.0454663  149.53395032 142.30540775 167.19427432 149.72097832\n",
      " 134.69823196 155.58081825 153.30386699 134.36614154 161.56908129\n",
      " 153.28686651 147.87202898 162.9646274  159.01566961 135.80052629\n",
      " 172.1425634  140.73750872 151.00892485]\n"
     ]
    },
    {
     "data": {
      "text/plain": [
       "<matplotlib.collections.PathCollection at 0x115add710>"
      ]
     },
     "execution_count": 340,
     "metadata": {},
     "output_type": "execute_result"
    },
    {
     "data": {
      "image/png": "[encoded data removed]",
      "text/plain": [
       "<matplotlib.figure.Figure at 0x115e26e90>"
      ]
     },
     "metadata": {},
     "output_type": "display_data"
    }
   ],
   "source": [
    "#example 2 using pandas\n",
    "import pandas as pd\n",
    "from sklearn.linear_model import LinearRegression\n",
    "import matplotlib\n",
    "import matplotlib.pyplot as plt\n",
    "%matplotlib inline\n",
    "matplotlib.style.use('ggplot')\n",
    "\n",
    "df = ps.read_csv(\"heart.csv\")\n",
    "df = ps.DataFrame(df)\n",
    "df  = df.sample(frac=1)\n",
    "\n",
    "\n",
    "# The whole date set \n",
    "x = df[['age','sex','chol','trestbps','target']]\n",
    "y = df['thalach']\n",
    "# split into Train and Test sets \n",
    "#TRAIN\n",
    "x_train = x[:200]\n",
    "y_train = y[:200]\n",
    "\n",
    "#TEST\n",
    "x_test = x[200:]\n",
    "y_test = y[200:]\n",
    "\n",
    "\n",
    "#print(y_test.shape)\n",
    "lm = LinearRegression()\n",
    "lm.fit(x_train,y_train)\n",
    "print(lm.coef_)\n",
    "print(lm.score(x_train,y_train))\n",
    "\n",
    "print(\"True Values\")\n",
    "print(np.array(y_test))\n",
    "print(\"Prediction in Test\")\n",
    "print(lm.predict(x_test))\n",
    "\n",
    "\n",
    "corr_val2 = np.corrcoef(np.array(y_test), lm.predict(x_test))\n",
    "\n",
    "plt.scatter(np.array(y_test), lm.predict(x_test))\n",
    "\n",
    "\n",
    "\n"
   ]
  },
  {
   "cell_type": "markdown",
   "metadata": {},
   "source": [
    "#### Footnote:\n"
   ]
  },
  {
   "cell_type": "code",
   "execution_count": null,
   "metadata": {},
   "outputs": [],
   "source": []
  }
 ],
 "metadata": {
  "kernelspec": {
   "display_name": "Python 2",
   "language": "python",
   "name": "python2"
  },
  "language_info": {
   "codemirror_mode": {
    "name": "ipython",
    "version": 2
   },
   "file_extension": ".py",
   "mimetype": "text/x-python",
   "name": "python",
   "nbconvert_exporter": "python",
   "pygments_lexer": "ipython2",
   "version": "2.7.14"
  }
 },
 "nbformat": 4,
 "nbformat_minor": 2
}
